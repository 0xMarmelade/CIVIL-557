{
 "cells": [
  {
   "cell_type": "markdown",
   "metadata": {},
   "source": [
    "# Hyperparameter search\n",
    "\n",
    "Here we will use grouped cross-validation with a random-search to optimise the hyperparameters for our choice of classifier, accounting for hierarchical data. \n",
    "\n",
    "You will optimise the models on the `train_validate` data, and test it on the `test` data.\n",
    "\n",
    "As discovered by many of you for the homework exercise, running hyperparameter searches is computationally intensive. Therfore, for this exercise, restrict the search values (e.g. low number of estimators/max depth), so that we can run the search in reaonable time during the class. \n",
    "\n",
    "Tasks:\n",
    "\n",
    "1. Investigate the documentation for `GroupKFold` in sklearn\n",
    "\n",
    "\n",
    "2. Investigate the documentation for `RandomizedSearchCV` in sklearn\n",
    "\n",
    "\n",
    "3. Investigate the documentation for `scipy.stats` (in particular `randint`, `uniform`)\n",
    "\n",
    "\n",
    "4. Choose a classifier to optimise (e.g. RandomForest, XGBoost, ExtraTrees, LogisticRegression). Make sure it is capable of predicting probabilities for multinomial data.\n",
    "\n",
    "\n",
    "5. Choose 4+ hyperparameters, and define appropriate probabilty distributions for them.\n",
    "\n",
    "\n",
    "6. Use `RandomizedSearchCV` to optimise the hyperparameters for your classifier on the dataset.\n",
    "    * Use the distributions for each parameter to create the search dictionary\n",
    "    * Use 5-fold GroupKFold for the cross-valudation, with the `household_id` used to define the groups\n",
    "    * Use `neg_log_loss` as the `scoring` parameter\n",
    "    * Make sure to store your scores for each hyper-parameter combination\n",
    "    * Initially try 10 iterations of the random search\n",
    "    \n",
    "    \n",
    "6. Design a grid containing 10 values for the same hyperparameters over the same range, and evaluate the grid search (using GridSearchCV). **Hint**: you will only be able to try 1-2 values of each parameter).\n",
    "    * Again, use grouped sampling for the cross-validation folds\n",
    "    \n",
    "\n",
    "7. Compare the optimal results from the random and grid-searches. Which search method finds the best solution with limited resources?\n",
    "\n",
    "    \n",
    "8. Fit the optimised model to all of the `train_validate` data using the optimal hyperparameters found using the randomized search. \n",
    "\n",
    "\n",
    "9. Test the fitted model on the `test` data.\n",
    "    * How does the log-likelihood score differ for the test data compared to the cross-validation score when we use correct sampling?"
   ]
  },
  {
   "cell_type": "code",
   "execution_count": null,
   "metadata": {},
   "outputs": [],
   "source": []
  }
 ],
 "metadata": {
  "kernelspec": {
   "display_name": "Python 3",
   "language": "python",
   "name": "python3"
  },
  "language_info": {
   "codemirror_mode": {
    "name": "ipython",
    "version": 3
   },
   "file_extension": ".py",
   "mimetype": "text/x-python",
   "name": "python",
   "nbconvert_exporter": "python",
   "pygments_lexer": "ipython3",
   "version": "3.7.5"
  }
 },
 "nbformat": 4,
 "nbformat_minor": 4
}
