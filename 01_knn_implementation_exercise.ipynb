{
 "cells": [
  {
   "cell_type": "markdown",
   "metadata": {},
   "source": [
    "# Implementation of k-NN\n",
    "\n",
    "This notebook was written by Gael Lederrey and Tim Hillel (tim.hillel@epfl.ch) for the Decision-aid methodologies in transportation course at EPFL (http://edu.epfl.ch/coursebook/en/decision-aid-methodologies-in-transportation-CIVIL-557).\n",
    "\n",
    "Please contact before distributing or reusing the material below.\n",
    "\n",
    "## Overview\n",
    "\n",
    "In this notebook, you will learn how to implement the $k$-NN algorithm. This notebook is separated in two parts:\n",
    "\n",
    "1. Implementing the binary case $k$-NN classifier\n",
    "2. Implementing the multinomial case.\n",
    "\n",
    "### Setup\n",
    "\n",
    "We start by loading the dataset and the different libraries that are required for the exercises. We randomly sample 10000 elements from the original dataset, to make computation faster."
   ]
  },
  {
   "cell_type": "code",
   "execution_count": null,
   "metadata": {},
   "outputs": [],
   "source": [
    "import numpy as np\n",
    "import pandas as pd"
   ]
  },
  {
   "cell_type": "code",
   "execution_count": null,
   "metadata": {},
   "outputs": [],
   "source": [
    "df_full = pd.read_csv('data/dataset.csv')\n",
    "\n",
    "# We sample the dataset to decrease computation time\n",
    "df = df_full.sample(10000, random_state = 123)"
   ]
  },
  {
   "cell_type": "markdown",
   "metadata": {},
   "source": [
    "## Implementation of k-NN for binary case\n",
    "\n",
    "### Data preparation\n",
    "\n",
    "We start this exercise by selecting the features and output. In this case, we want a binary label which represents if a trip is made by driving (*1*) or not (*0*).\n",
    "\n",
    "The label is currently a string, so we will map it to numeric data.\n",
    "\n",
    "We will also select only four **features** from the data (again, in order to reduce computation time)."
   ]
  },
  {
   "cell_type": "code",
   "execution_count": null,
   "metadata": {},
   "outputs": [],
   "source": [
    "# Dictionary used to transform the string in \n",
    "# the travel_mode for the binary output\n",
    "str_to_val = {\n",
    "    'drive': 1,\n",
    "    'pt': 0,\n",
    "    'cycle': 0,\n",
    "    'walk': 0\n",
    "}\n",
    "\n",
    "# Output\n",
    "y = df['travel_mode'].replace(str_to_val).values\n",
    "\n",
    "# Features (4 were selected)\n",
    "x = df[['age', 'car_ownership', 'distance', 'female']].values"
   ]
  },
  {
   "cell_type": "markdown",
   "metadata": {},
   "source": [
    "### Train-test split"
   ]
  },
  {
   "cell_type": "code",
   "execution_count": null,
   "metadata": {},
   "outputs": [],
   "source": [
    "# We split the output and features into a train and a test set by an (approximate) ratio of 0.8\n",
    "np.random.seed(123)\n",
    "msk = np.random.rand(len(df)) < 0.8\n",
    "\n",
    "x_train = x[msk]\n",
    "x_test = x[~msk]\n",
    "\n",
    "y_train = y[msk]\n",
    "y_test = y[~msk]"
   ]
  },
  {
   "cell_type": "markdown",
   "metadata": {},
   "source": [
    "### Distance\n",
    "\n",
    "We need to compute the distance between two points in the space.\n",
    "\n",
    "Make sure that your function can work if one of the arrays is a 2D **array** of multiple **points**"
   ]
  },
  {
   "cell_type": "code",
   "execution_count": null,
   "metadata": {},
   "outputs": [],
   "source": [
    "def euclidean_distance(array1, array2):\n",
    "    # Enter your code below\n",
    "    "
   ]
  },
  {
   "cell_type": "markdown",
   "metadata": {},
   "source": [
    "**Verify your answer here:**\n",
    "\n",
    "`euclidean_distance([3, -2, -5, 9], [-1, 4, 2, 0])) = 13.491`"
   ]
  },
  {
   "cell_type": "code",
   "execution_count": null,
   "metadata": {},
   "outputs": [],
   "source": [
    "arr1 = [3, -2, -5, 9]\n",
    "arr2 = [-1, 4, 2, 0]\n",
    "\n",
    "euclidean_distance(arr1, arr2)"
   ]
  },
  {
   "cell_type": "markdown",
   "metadata": {},
   "source": [
    "    euclidean_distance([3, -2, -5, 9], \n",
    "                       [[-1, 4, 2, 0],[10,7,6,-7]]) = array([13.491, 22.517])"
   ]
  },
  {
   "cell_type": "code",
   "execution_count": null,
   "metadata": {},
   "outputs": [],
   "source": [
    "euclidean_distance([3, -2, -5, 9], \n",
    "                   [[-1, 4, 2, 0],[10,7,6,-7]])"
   ]
  },
  {
   "cell_type": "markdown",
   "metadata": {},
   "source": [
    "### Find the k nearest neighbours\n",
    "\n",
    "For this function, we need to find the `k` nearest neighbours out of the `known_points` for a single `candidate`. The `candidate` is an array (with $n$ features), and it needs to be compared to the rest of the `known_points` (in the training set). \n",
    "\n",
    "The function should return the indices of the `k` closest neighbours."
   ]
  },
  {
   "cell_type": "code",
   "execution_count": null,
   "metadata": {},
   "outputs": [],
   "source": [
    "def get_k_nearest_neighbours(candidate, known_points, k):\n",
    "    # Enter your code below\n"
   ]
  },
  {
   "cell_type": "markdown",
   "metadata": {},
   "source": [
    "**Verify your answer here:**\n",
    "\n",
    "`get_k_nearest_neighbours(x_test[0], x_train, 5) = array([2648, 3071, 7607, 7686, 3466])`"
   ]
  },
  {
   "cell_type": "code",
   "execution_count": null,
   "metadata": {},
   "outputs": [],
   "source": [
    "neighbours = get_k_nearest_neighbours(x_test[0], x_train, 5)\n",
    "neighbours"
   ]
  },
  {
   "cell_type": "markdown",
   "metadata": {},
   "source": [
    "### Find the class\n",
    "\n",
    "Now that we know the closest neighbours, we need to compute the class (output) for a given instance. To do this, we need to count the number of times the class of a neighbour appears. Then, we can select the class with the highest count."
   ]
  },
  {
   "cell_type": "code",
   "execution_count": null,
   "metadata": {},
   "outputs": [],
   "source": [
    "def get_class(neighbours, y_true):\n",
    "    # Enter your code below\n"
   ]
  },
  {
   "cell_type": "markdown",
   "metadata": {},
   "source": [
    "**Verify your answer here:**\n",
    "\n",
    "`get_class(neighbours, y_train) = 1`"
   ]
  },
  {
   "cell_type": "code",
   "execution_count": null,
   "metadata": {},
   "outputs": [],
   "source": [
    "get_class(neighbours, y_train)"
   ]
  },
  {
   "cell_type": "markdown",
   "metadata": {},
   "source": [
    "You can verify that three neighbours have the class `1` and one has the class `0`."
   ]
  },
  {
   "cell_type": "code",
   "execution_count": null,
   "metadata": {},
   "outputs": [],
   "source": [
    "y_train[neighbours]"
   ]
  },
  {
   "cell_type": "markdown",
   "metadata": {},
   "source": [
    "### Compute the accuracy\n",
    "\n",
    "We need to implement the computation of the accuracy. Recall that the accuracy is the proportion of the predictions we get right (i.e. where our **prediction** is equal to the **ground truth**) "
   ]
  },
  {
   "cell_type": "code",
   "execution_count": null,
   "metadata": {},
   "outputs": [],
   "source": [
    "def compute_accuracy(y_true, y_pred):\n",
    "    # Enter your code below\n"
   ]
  },
  {
   "cell_type": "markdown",
   "metadata": {},
   "source": [
    "**Verify your answer here:**\n",
    "\n",
    "`compute_accuracy([0, 1, 1, 0, 1], [0, 1, 1, 1, 0]) = 60.0`"
   ]
  },
  {
   "cell_type": "code",
   "execution_count": null,
   "metadata": {},
   "outputs": [],
   "source": [
    "compute_accuracy([0, 1, 1, 0, 1], [0, 1, 1, 1, 0])"
   ]
  },
  {
   "cell_type": "markdown",
   "metadata": {},
   "source": [
    "## Test your implementation of k-NN\n",
    "\n",
    "We can now test our implementation of k-NN. To do so, we need to combine the functions we developed the following order: \n",
    "\n",
    "```\n",
    "For each observation in the test set:\n",
    "    Get the k nearest neighbours\n",
    "    Get the class of the current observation\n",
    "    Add the prediction to a vector\n",
    "    \n",
    "Compute the accuracy\n",
    "    \n",
    "```\n",
    "\n",
    "With `k=5`, you should get an accuracy of `60.399%`.\n"
   ]
  },
  {
   "cell_type": "code",
   "execution_count": null,
   "metadata": {},
   "outputs": [],
   "source": [
    "# Enter your code below\n"
   ]
  },
  {
   "cell_type": "markdown",
   "metadata": {},
   "source": [
    "## k-NN for multinomial cases\n",
    "\n",
    "First, we need to change the data to add a multinomial output.\n",
    "\n",
    "Indeed, we would like to see if we can classify between all four transport modes."
   ]
  },
  {
   "cell_type": "code",
   "execution_count": null,
   "metadata": {},
   "outputs": [],
   "source": [
    "# Dictionnary used to transform the string in \n",
    "# the travel_mode to an integer\n",
    "str_to_val = {\n",
    "    'walk': 0,\n",
    "    'cycle': 1,\n",
    "    'pt': 2,\n",
    "    'drive': 3\n",
    "}\n",
    "\n",
    "# Output\n",
    "y = df['travel_mode'].replace(str_to_val).values"
   ]
  },
  {
   "cell_type": "code",
   "execution_count": null,
   "metadata": {},
   "outputs": [],
   "source": [
    "y_train_mult = y[msk]\n",
    "y_test_mult = y[~msk]"
   ]
  },
  {
   "cell_type": "markdown",
   "metadata": {},
   "source": [
    "### Modification of the code\n",
    "\n",
    "Modify any functions that you implemented earlier to take into account the multinomial outputs."
   ]
  },
  {
   "cell_type": "code",
   "execution_count": null,
   "metadata": {},
   "outputs": [],
   "source": [
    "# Enter your code below\n"
   ]
  },
  {
   "cell_type": "markdown",
   "metadata": {},
   "source": [
    "###### **Verify your answer here:**\n",
    "\n",
    "With `k=5`, you should now get an accuracy of `53.756%`."
   ]
  },
  {
   "cell_type": "code",
   "execution_count": null,
   "metadata": {},
   "outputs": [],
   "source": [
    "# Enter your code below\n"
   ]
  }
 ],
 "metadata": {
  "kernelspec": {
   "display_name": "Python [default]",
   "language": "python",
   "name": "python3"
  },
  "language_info": {
   "codemirror_mode": {
    "name": "ipython",
    "version": 3
   },
   "file_extension": ".py",
   "mimetype": "text/x-python",
   "name": "python",
   "nbconvert_exporter": "python",
   "pygments_lexer": "ipython3",
   "version": "3.6.5"
  }
 },
 "nbformat": 4,
 "nbformat_minor": 2
}
