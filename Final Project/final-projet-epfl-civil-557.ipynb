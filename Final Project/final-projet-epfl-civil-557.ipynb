{
 "cells": [
  {
   "cell_type": "markdown",
   "metadata": {
    "id": "UKIdR24IPUxq"
   },
   "source": [
    "# CIVIL-557 Decision Aid Methodologies in Transportation\n",
    "## July 2020 - Final coursework project\n",
    "### This notebook was authored by\n",
    "    - Léandre Tarpin-Pitre\n",
    "    - Mathieu Bélanger"
   ]
  },
  {
   "cell_type": "markdown",
   "metadata": {
    "id": "MXzvDAv5NQfd"
   },
   "source": [
    "# 0 Librairies importation and management"
   ]
  },
  {
   "cell_type": "code",
   "execution_count": 1,
   "metadata": {
    "id": "PYl40I2YsC94"
   },
   "outputs": [],
   "source": [
    "import numpy  as np\n",
    "import pandas as pd\n",
    "from sklearn.model_selection import train_test_split\n",
    "from sklearn.linear_model import LogisticRegression\n",
    "from sklearn.metrics import log_loss, confusion_matrix, plot_confusion_matrix\n",
    "from sklearn.preprocessing import  MinMaxScaler, OneHotEncoder\n",
    "from sklearn import metrics\n",
    "from sklearn.pipeline import Pipeline, FeatureUnion\n",
    "from sklearn.base import BaseEstimator, TransformerMixin, ClassifierMixin\n",
    "from sklearn.model_selection import RandomizedSearchCV, GroupKFold\n",
    "from sklearn.ensemble import RandomForestClassifier\n",
    "from sklearn.compose import ColumnTransformer\n",
    "from sklearn.naive_bayes import MultinomialNB\n",
    "from sklearn.linear_model import SGDClassifier\n",
    "\n",
    "from xgboost.sklearn import XGBClassifier\n",
    "import xgboost as xgb\n",
    "\n",
    "import time\n",
    "\n",
    "from scipy.stats import randint as sp_randint, uniform as sp_uniform\n",
    "\n",
    "import matplotlib.pyplot as plt"
   ]
  },
  {
   "cell_type": "markdown",
   "metadata": {
    "id": "44WTlRT2P5b8"
   },
   "source": [
    "## 0.1 Data importation"
   ]
  },
  {
   "cell_type": "code",
   "execution_count": 2,
   "metadata": {
    "id": "jOf24g9WH-mj"
   },
   "outputs": [],
   "source": [
    "data_train = pd.read_csv('../data/cmap-chicago-travel/train_validate.csv', index_col='trip_id')\n",
    "data_predictions = pd.read_csv('../data/cmap-chicago-travel/test.csv', index_col='trip_id')"
   ]
  },
  {
   "cell_type": "code",
   "execution_count": 3,
   "metadata": {
    "id": "aIbrFLKw7sMh",
    "outputId": "d2095ae5-26e8-459e-a54e-23fa3bd117ff"
   },
   "outputs": [
    {
     "data": {
      "text/html": [
       "<div>\n",
       "<style scoped>\n",
       "    .dataframe tbody tr th:only-of-type {\n",
       "        vertical-align: middle;\n",
       "    }\n",
       "\n",
       "    .dataframe tbody tr th {\n",
       "        vertical-align: top;\n",
       "    }\n",
       "\n",
       "    .dataframe thead th {\n",
       "        text-align: right;\n",
       "    }\n",
       "</style>\n",
       "<table border=\"1\" class=\"dataframe\">\n",
       "  <thead>\n",
       "    <tr style=\"text-align: right;\">\n",
       "      <th></th>\n",
       "      <th>household_id</th>\n",
       "      <th>person_id</th>\n",
       "      <th>trip_number</th>\n",
       "      <th>choice</th>\n",
       "      <th>travel_dow</th>\n",
       "      <th>trip_purpose</th>\n",
       "      <th>distance</th>\n",
       "      <th>departure_hour</th>\n",
       "      <th>departure_min</th>\n",
       "      <th>hh_vehicles</th>\n",
       "      <th>hh_size</th>\n",
       "      <th>hh_bikes</th>\n",
       "      <th>hh_descr</th>\n",
       "      <th>hh_income</th>\n",
       "      <th>gender</th>\n",
       "      <th>age</th>\n",
       "      <th>license</th>\n",
       "      <th>education_level</th>\n",
       "      <th>work_status</th>\n",
       "    </tr>\n",
       "    <tr>\n",
       "      <th>trip_id</th>\n",
       "      <th></th>\n",
       "      <th></th>\n",
       "      <th></th>\n",
       "      <th></th>\n",
       "      <th></th>\n",
       "      <th></th>\n",
       "      <th></th>\n",
       "      <th></th>\n",
       "      <th></th>\n",
       "      <th></th>\n",
       "      <th></th>\n",
       "      <th></th>\n",
       "      <th></th>\n",
       "      <th></th>\n",
       "      <th></th>\n",
       "      <th></th>\n",
       "      <th></th>\n",
       "      <th></th>\n",
       "      <th></th>\n",
       "    </tr>\n",
       "  </thead>\n",
       "  <tbody>\n",
       "    <tr>\n",
       "      <th>1</th>\n",
       "      <td>1</td>\n",
       "      <td>1</td>\n",
       "      <td>1</td>\n",
       "      <td>drive</td>\n",
       "      <td>7</td>\n",
       "      <td>HOME_OTHER</td>\n",
       "      <td>23.42579</td>\n",
       "      <td>9.0</td>\n",
       "      <td>20.0</td>\n",
       "      <td>2</td>\n",
       "      <td>2</td>\n",
       "      <td>0</td>\n",
       "      <td>2</td>\n",
       "      <td>6</td>\n",
       "      <td>1</td>\n",
       "      <td>66</td>\n",
       "      <td>1.0</td>\n",
       "      <td>6</td>\n",
       "      <td>FTE</td>\n",
       "    </tr>\n",
       "    <tr>\n",
       "      <th>2</th>\n",
       "      <td>1</td>\n",
       "      <td>1</td>\n",
       "      <td>2</td>\n",
       "      <td>drive</td>\n",
       "      <td>7</td>\n",
       "      <td>OTHER</td>\n",
       "      <td>1.71259</td>\n",
       "      <td>12.0</td>\n",
       "      <td>5.0</td>\n",
       "      <td>2</td>\n",
       "      <td>2</td>\n",
       "      <td>0</td>\n",
       "      <td>2</td>\n",
       "      <td>6</td>\n",
       "      <td>1</td>\n",
       "      <td>66</td>\n",
       "      <td>1.0</td>\n",
       "      <td>6</td>\n",
       "      <td>FTE</td>\n",
       "    </tr>\n",
       "    <tr>\n",
       "      <th>3</th>\n",
       "      <td>1</td>\n",
       "      <td>1</td>\n",
       "      <td>3</td>\n",
       "      <td>drive</td>\n",
       "      <td>7</td>\n",
       "      <td>HOME_OTHER</td>\n",
       "      <td>21.77887</td>\n",
       "      <td>15.0</td>\n",
       "      <td>30.0</td>\n",
       "      <td>2</td>\n",
       "      <td>2</td>\n",
       "      <td>0</td>\n",
       "      <td>2</td>\n",
       "      <td>6</td>\n",
       "      <td>1</td>\n",
       "      <td>66</td>\n",
       "      <td>1.0</td>\n",
       "      <td>6</td>\n",
       "      <td>FTE</td>\n",
       "    </tr>\n",
       "    <tr>\n",
       "      <th>4</th>\n",
       "      <td>1</td>\n",
       "      <td>1</td>\n",
       "      <td>4</td>\n",
       "      <td>drive</td>\n",
       "      <td>7</td>\n",
       "      <td>SHOPPING</td>\n",
       "      <td>2.02603</td>\n",
       "      <td>17.0</td>\n",
       "      <td>30.0</td>\n",
       "      <td>2</td>\n",
       "      <td>2</td>\n",
       "      <td>0</td>\n",
       "      <td>2</td>\n",
       "      <td>6</td>\n",
       "      <td>1</td>\n",
       "      <td>66</td>\n",
       "      <td>1.0</td>\n",
       "      <td>6</td>\n",
       "      <td>FTE</td>\n",
       "    </tr>\n",
       "    <tr>\n",
       "      <th>5</th>\n",
       "      <td>1</td>\n",
       "      <td>1</td>\n",
       "      <td>5</td>\n",
       "      <td>drive</td>\n",
       "      <td>7</td>\n",
       "      <td>SHOPPING</td>\n",
       "      <td>0.87691</td>\n",
       "      <td>18.0</td>\n",
       "      <td>15.0</td>\n",
       "      <td>2</td>\n",
       "      <td>2</td>\n",
       "      <td>0</td>\n",
       "      <td>2</td>\n",
       "      <td>6</td>\n",
       "      <td>1</td>\n",
       "      <td>66</td>\n",
       "      <td>1.0</td>\n",
       "      <td>6</td>\n",
       "      <td>FTE</td>\n",
       "    </tr>\n",
       "  </tbody>\n",
       "</table>\n",
       "</div>"
      ],
      "text/plain": [
       "         household_id  person_id  trip_number choice  travel_dow trip_purpose  \\\n",
       "trip_id                                                                         \n",
       "1                   1          1            1  drive           7   HOME_OTHER   \n",
       "2                   1          1            2  drive           7        OTHER   \n",
       "3                   1          1            3  drive           7   HOME_OTHER   \n",
       "4                   1          1            4  drive           7     SHOPPING   \n",
       "5                   1          1            5  drive           7     SHOPPING   \n",
       "\n",
       "         distance  departure_hour  departure_min  hh_vehicles  hh_size  \\\n",
       "trip_id                                                                  \n",
       "1        23.42579             9.0           20.0            2        2   \n",
       "2         1.71259            12.0            5.0            2        2   \n",
       "3        21.77887            15.0           30.0            2        2   \n",
       "4         2.02603            17.0           30.0            2        2   \n",
       "5         0.87691            18.0           15.0            2        2   \n",
       "\n",
       "         hh_bikes  hh_descr  hh_income  gender  age  license  education_level  \\\n",
       "trip_id                                                                         \n",
       "1               0         2          6       1   66      1.0                6   \n",
       "2               0         2          6       1   66      1.0                6   \n",
       "3               0         2          6       1   66      1.0                6   \n",
       "4               0         2          6       1   66      1.0                6   \n",
       "5               0         2          6       1   66      1.0                6   \n",
       "\n",
       "        work_status  \n",
       "trip_id              \n",
       "1               FTE  \n",
       "2               FTE  \n",
       "3               FTE  \n",
       "4               FTE  \n",
       "5               FTE  "
      ]
     },
     "execution_count": 3,
     "metadata": {},
     "output_type": "execute_result"
    }
   ],
   "source": [
    "data_train.head()"
   ]
  },
  {
   "cell_type": "markdown",
   "metadata": {
    "id": "UKSotDNH6Kde"
   },
   "source": [
    "# 1 Data pre-processing\n",
    "\n",
    "## 1.1 Categorical data encoding"
   ]
  },
  {
   "cell_type": "code",
   "execution_count": 4,
   "metadata": {
    "id": "VR6DP5muYkou",
    "outputId": "d46ec8aa-35f4-45b5-fc31-91d5361eb452"
   },
   "outputs": [
    {
     "data": {
      "text/plain": [
       "HOME_OTHER         18937\n",
       "SHOPPING           13373\n",
       "ESCORT_TRANSFER     9184\n",
       "HOME_WORK           8060\n",
       "OTHER               6680\n",
       "HOME_EDU            3749\n",
       "BUSINESS            1554\n",
       "Name: trip_purpose, dtype: int64"
      ]
     },
     "metadata": {},
     "output_type": "display_data"
    },
    {
     "data": {
      "text/plain": [
       "FTE           26943\n",
       "Student       11204\n",
       "Retired        8039\n",
       "PTE            6187\n",
       "Volunteer      2900\n",
       "Homemaker      2458\n",
       "Unemployed     1927\n",
       "Unknown        1879\n",
       "Name: work_status, dtype: int64"
      ]
     },
     "metadata": {},
     "output_type": "display_data"
    },
    {
     "data": {
      "text/plain": [
       "1    43990\n",
       "3    12315\n",
       "2     5232\n",
       "Name: hh_descr, dtype: int64"
      ]
     },
     "metadata": {},
     "output_type": "display_data"
    },
    {
     "data": {
      "text/plain": [
       "household_id       0\n",
       "person_id          0\n",
       "trip_number        0\n",
       "choice             0\n",
       "travel_dow         0\n",
       "trip_purpose       0\n",
       "distance           0\n",
       "departure_hour     0\n",
       "departure_min      0\n",
       "hh_vehicles        0\n",
       "hh_size            0\n",
       "hh_bikes           0\n",
       "hh_descr           0\n",
       "hh_income          0\n",
       "gender             0\n",
       "age                0\n",
       "license            0\n",
       "education_level    0\n",
       "work_status        0\n",
       "dtype: int64"
      ]
     },
     "metadata": {},
     "output_type": "display_data"
    },
    {
     "data": {
      "text/plain": [
       "household_id       0\n",
       "person_id          0\n",
       "trip_number        0\n",
       "travel_dow         0\n",
       "trip_purpose       0\n",
       "distance           0\n",
       "departure_hour     0\n",
       "departure_min      0\n",
       "hh_vehicles        0\n",
       "hh_size            0\n",
       "hh_bikes           0\n",
       "hh_descr           0\n",
       "hh_income          0\n",
       "gender             0\n",
       "age                0\n",
       "license            0\n",
       "education_level    0\n",
       "work_status        0\n",
       "dtype: int64"
      ]
     },
     "metadata": {},
     "output_type": "display_data"
    }
   ],
   "source": [
    "### Same categories for train and test set (for the categorical columns)\n",
    "set(data_train['trip_purpose'].value_counts()) == set(data_predictions['trip_purpose'].value_counts())\n",
    "set(data_train['work_status'].value_counts()) == set(data_predictions['work_status'].value_counts())\n",
    "\n",
    "### Assess the low cardinality of the categorical variables (for efficient one-hot encoding)\n",
    "display(data_train['trip_purpose'].value_counts())\n",
    "display(data_train['work_status'].value_counts())\n",
    "display(data_train['hh_descr'].value_counts())\n",
    "\n",
    "### Missing (nan) values in the dfs?\n",
    "display(data_train.isnull().sum())\n",
    "display(data_predictions.isnull().sum())"
   ]
  },
  {
   "cell_type": "code",
   "execution_count": 5,
   "metadata": {
    "id": "Aj7rgS0rp1V4",
    "outputId": "40f94f58-474a-41cb-8745-382033befd88"
   },
   "outputs": [
    {
     "data": {
      "text/plain": [
       "household_id         int64\n",
       "person_id            int64\n",
       "trip_number          int64\n",
       "choice              object\n",
       "travel_dow           int64\n",
       "trip_purpose        object\n",
       "distance           float64\n",
       "departure_hour     float64\n",
       "departure_min      float64\n",
       "hh_vehicles          int64\n",
       "hh_size              int64\n",
       "hh_bikes             int64\n",
       "hh_descr             int64\n",
       "hh_income            int64\n",
       "gender               int64\n",
       "age                  int64\n",
       "license            float64\n",
       "education_level      int64\n",
       "work_status         object\n",
       "dtype: object"
      ]
     },
     "execution_count": 5,
     "metadata": {},
     "output_type": "execute_result"
    }
   ],
   "source": [
    "data_train.dtypes"
   ]
  },
  {
   "cell_type": "code",
   "execution_count": 6,
   "metadata": {
    "id": "VLB_vomZGBOI"
   },
   "outputs": [],
   "source": [
    "# Columns chosen for categorical one-hot encoding\n",
    "# One-hot encoding will be applied since we don't want a proportionnal relation \n",
    "# to be fitted between the classes of each column\n",
    "\n",
    "categorical_cols = ['travel_dow','hh_descr','trip_purpose','work_status', 'license', 'gender']"
   ]
  },
  {
   "cell_type": "code",
   "execution_count": 7,
   "metadata": {
    "id": "DTsUUPbGsC-C"
   },
   "outputs": [],
   "source": [
    "def preprocessing(df):\n",
    "  # To one-hot encode these numerical columns we have to convert the values to string\n",
    "  df['travel_dow'] = df['travel_dow'].apply(str)\n",
    "  df['gender'] = df['gender'].apply(str)\n",
    "  df['license'] = df['license'].apply(str)\n",
    "  df['hh_descr'] = df['hh_descr'].apply(str)\n",
    "  \n",
    "  # Concatenate time departure\n",
    "  # Increased granularity for the time data. Departure minutes alone does not mean much.\n",
    "  df['departure_time'] = df['departure_hour'] + df['departure_min']/60\n",
    "  df = df.drop(['departure_hour', 'departure_min'], axis=1)\n",
    "\n",
    "  return df\n",
    "\n",
    "data_train = preprocessing(data_train)\n",
    "data_predictions = preprocessing(data_predictions)\n",
    "\n",
    "\n"
   ]
  },
  {
   "cell_type": "markdown",
   "metadata": {
    "id": "b69OkFMlndCu"
   },
   "source": [
    "## 1.2 Train-test segmentation"
   ]
  },
  {
   "cell_type": "code",
   "execution_count": 8,
   "metadata": {
    "id": "9nWWQuPjsC-H"
   },
   "outputs": [],
   "source": [
    "target = ['choice']\n",
    "id_context = [#'household_id', removed to permit grouped-cross-validation\n",
    "              'person_id',\n",
    "              'trip_number'\n",
    "             ]\n",
    "features = [column for column in data_train.columns \n",
    "            if column not in (target + id_context)]\n",
    "\n",
    "y = data_train[target]\n",
    "X = data_train[features]\n",
    "\n",
    "X_data_predictions = data_predictions[features]\n",
    "X_data_predictions = X_data_predictions.drop('household_id', axis=1)"
   ]
  },
  {
   "cell_type": "code",
   "execution_count": 9,
   "metadata": {
    "id": "J0tf8OCMsC-N"
   },
   "outputs": [],
   "source": [
    "X_train, X_test, y_train, y_test = train_test_split(X, y, test_size = 0.2, random_state = 42)\n",
    "\n",
    "y_train = y_train.choice.values\n",
    "y_test = y_test.choice.values"
   ]
  },
  {
   "cell_type": "markdown",
   "metadata": {
    "id": "MwOZ9BAhsyDf"
   },
   "source": [
    "# 1.3 Feature engineering\n",
    "\n",
    "Here I start to lay out the bases of the sklearn pipeline that will be used to automate and encapsulate the preprocessing, parameter tuning and even model choosing. \n",
    "\n",
    "Since this dataset did not require a lot of preprocessing, the pipeline is quite light. However pipelines can seem a bit daunting to learn and apply from data input to final predictions, it was a good moment to try to use them.\n",
    "\n",
    "\n",
    "### 1.3.1 Scaling of numerical columns\n",
    "A minmax scaler is used since it is more suited for generic scaling (minimal outliers and we don't want to lose the original distribution form)"
   ]
  },
  {
   "cell_type": "code",
   "execution_count": 10,
   "metadata": {
    "id": "5b4cT6KtnW-J"
   },
   "outputs": [],
   "source": [
    "to_scale_cols = ['distance', 'hh_vehicles', 'hh_size', 'hh_bikes', 'hh_descr', 'hh_income', 'age', 'education_level', 'departure_time']\n",
    "\n",
    "scaling_pipeline = Pipeline([\n",
    "                             ('minMax', MinMaxScaler())\n",
    "])"
   ]
  },
  {
   "cell_type": "markdown",
   "metadata": {
    "id": "-SACnHCovORN"
   },
   "source": [
    "## 1.3.2 One-hot encoding the categorical variables\n"
   ]
  },
  {
   "cell_type": "code",
   "execution_count": 11,
   "metadata": {
    "id": "dGILQmeMvHEv"
   },
   "outputs": [],
   "source": [
    "class StringIndexer(BaseEstimator, TransformerMixin):\n",
    "    def fit(self, X, y=None):\n",
    "        return self\n",
    "    def transform(self, X):\n",
    "        assert isinstance(X, pd.DataFrame)\n",
    "        return X.astype('category').apply(lambda s: s.cat.codes.replace(\n",
    "            {-1: len(s.cat.categories)}\n",
    "        ))\n",
    "\n",
    "# Chosen categorical columns are encoded to dummy variables\n",
    "categorical_pipeline = Pipeline([\n",
    "                         ('labeler', StringIndexer()),\n",
    "                         ('encoder', OneHotEncoder(handle_unknown='ignore')),\n",
    "                         ])"
   ]
  },
  {
   "cell_type": "markdown",
   "metadata": {
    "id": "vus4VpnHGBPE"
   },
   "source": [
    "## 1.4 Feature Union"
   ]
  },
  {
   "cell_type": "code",
   "execution_count": 12,
   "metadata": {
    "id": "5A4-f42rvmXY"
   },
   "outputs": [],
   "source": [
    "preprocessor = ColumnTransformer([\n",
    "    ('categorical_cols', categorical_pipeline, categorical_cols),\n",
    "    ('scaled_cols', scaling_pipeline, to_scale_cols)\n",
    "])"
   ]
  },
  {
   "cell_type": "markdown",
   "metadata": {
    "id": "-7tGRFMjmydJ"
   },
   "source": [
    "# 2 Models definition \n",
    "\n",
    "## 2.1 Pipeline setup"
   ]
  },
  {
   "cell_type": "code",
   "execution_count": 13,
   "metadata": {
    "id": "wx9x9ifPGBPT"
   },
   "outputs": [],
   "source": [
    "class ClfSwitcher(ClassifierMixin, BaseEstimator):\n",
    "\n",
    "    def __init__(\n",
    "        self, \n",
    "        estimator = SGDClassifier(),\n",
    "    ):\n",
    "        \"\"\"\n",
    "        A Custom BaseEstimator that can switch between classifiers.\n",
    "        :param estimator: sklearn object - The classifier\n",
    "        \"\"\" \n",
    "\n",
    "        self.estimator = estimator\n",
    "\n",
    "\n",
    "    def fit(self, X, y=None, **kwargs):\n",
    "        self.estimator.fit(X, y)\n",
    "        return self\n",
    "\n",
    "\n",
    "    def predict(self, X, y=None):\n",
    "        return self.estimator.predict(X)\n",
    "\n",
    "\n",
    "    def predict_proba(self, X):\n",
    "        return self.estimator.predict_proba(X)\n",
    "\n",
    "\n",
    "    def score(self, X, y):\n",
    "        return self.estimator.score(X, y)"
   ]
  },
  {
   "cell_type": "markdown",
   "metadata": {
    "id": "4ZpQ91iTMigE"
   },
   "source": [
    "By lack of time & access to a sufficient computing machine (Google collab is often a bit unstable where I am), the model list is\n",
    "reduced. But the proof of concept is there. This architecture can handle as many\n",
    "different models as required combined with randomised search CV.\n",
    "\n",
    "I reduced the list and search scope to be able to fully rerun the notebook once\n",
    "before handing the project"
   ]
  },
  {
   "cell_type": "code",
   "execution_count": 14,
   "metadata": {
    "id": "63MSWtyvGBPc",
    "outputId": "5d4ca862-be9a-4926-ae25-7ad78f50e5ab",
    "tags": []
   },
   "outputs": [
    {
     "name": "stdout",
     "output_type": "stream",
     "text": [
      "Fitting 5 folds for each of 60 candidates, totalling 300 fits\n"
     ]
    },
    {
     "name": "stderr",
     "output_type": "stream",
     "text": [
      "[Parallel(n_jobs=-1)]: Using backend LokyBackend with 4 concurrent workers.\n",
      "[Parallel(n_jobs=-1)]: Done  42 tasks      | elapsed: 19.6min\n",
      "[Parallel(n_jobs=-1)]: Done 192 tasks      | elapsed: 94.0min\n",
      "/opt/conda/lib/python3.7/site-packages/joblib/externals/loky/process_executor.py:706: UserWarning: A worker stopped while some jobs were given to the executor. This can be caused by a too short worker timeout or by a memory leak.\n",
      "  \"timeout or by a memory leak.\", UserWarning\n",
      "[Parallel(n_jobs=-1)]: Done 300 out of 300 | elapsed: 155.9min finished\n"
     ]
    },
    {
     "data": {
      "text/plain": [
       "-0.5958151549960242"
      ]
     },
     "execution_count": 14,
     "metadata": {},
     "output_type": "execute_result"
    }
   ],
   "source": [
    "# List of models to be tested, with the parameter distribution for the Randomized\n",
    "#search\n",
    "\n",
    "params = [\n",
    "    {\n",
    "        'clf__estimator': [RandomForestClassifier()],\n",
    "        \"clf__estimator__max_depth\": sp_randint(2,15),\n",
    "        \"clf__estimator__max_features\": sp_randint(2,15),\n",
    "        \"clf__estimator__min_samples_split\": sp_randint(2, 5),\n",
    "        \"clf__estimator__min_samples_leaf\": sp_randint(2, 5),\n",
    "        \"clf__estimator__n_estimators\" : sp_randint(50,150)\n",
    "    },\n",
    "    {\n",
    "        'clf__estimator': [XGBClassifier(#objective='multi:softmax', \n",
    "                                         #num_class = 4,\n",
    "                                         scale_pos_weight=1,\n",
    "                                         verbosity = 0,\n",
    "                                         early_stopping_rounds = 5)],\n",
    "        \"clf__estimator__n_estimators\" : sp_randint(100,300),\n",
    "        'clf__estimator__max_depth': sp_randint(3,12),\n",
    "        'clf__estimator__min_child_weight': sp_randint(1,7),\n",
    "        'clf__estimator__gamma': [0, 0.05, 0.1, 0.2],\n",
    "        'clf__estimator__subsamble': [i/100.0 for i in range(75,90,5)],\n",
    "        'clf__estimator__colsample_bytree': [i/100.0 for i in range(75,90,5)],\n",
    "        #'clf__estimator__learning_rate': [0.01, 0.0125, 0.015, 0.0175, 0.02],\n",
    "    }\n",
    "]\n",
    "\n",
    "classifier_pipeline = Pipeline([\n",
    "    ('features_preprocessed', preprocessor),\n",
    "    ('clf', ClfSwitcher()),\n",
    "])\n",
    "\n",
    "# We group on household to prevent data-leakage during cross-validation\n",
    "gkf = GroupKFold(n_splits= 5)\n",
    "\n",
    "\n",
    "# Randomized search is operated on all models to find the best combination\n",
    "# of model-parameters\n",
    "rscv = RandomizedSearchCV(estimator = classifier_pipeline,\n",
    "                          param_distributions=params[1],\n",
    "                          scoring = \"neg_log_loss\",\n",
    "                          n_jobs = -1,\n",
    "                          cv = gkf,\n",
    "                          n_iter = 60,\n",
    "                          verbose=1)\n",
    "\n",
    "search = rscv.fit(X_train,y_train,groups = X_train['household_id'])\n",
    "\n",
    "search.best_params_\n",
    "search.cv_results_['mean_fit_time'][search.best_index_]\n",
    "search.best_score_"
   ]
  },
  {
   "cell_type": "code",
   "execution_count": 15,
   "metadata": {
    "id": "ES1Dhph7GBPl"
   },
   "outputs": [],
   "source": [
    "# The best model is retrieved from the pipeline\n",
    "best_model = search.best_estimator_['clf'].estimator"
   ]
  },
  {
   "cell_type": "markdown",
   "metadata": {
    "id": "nmclE8iqNcTt"
   },
   "source": [
    "#3 Evaluation and testing"
   ]
  },
  {
   "cell_type": "markdown",
   "metadata": {
    "id": "S1JQxNglNnze"
   },
   "source": [
    "## 3.1 Confusion matrix of the sub-train predictions"
   ]
  },
  {
   "cell_type": "code",
   "execution_count": 16,
   "metadata": {
    "id": "Q2au96FfGBPq",
    "tags": []
   },
   "outputs": [],
   "source": [
    "# We refit on the whole train set\n",
    "search.best_estimator_.fit(X_train, y_train)\n",
    "preds = search.best_estimator_.predict(X_test)"
   ]
  },
  {
   "cell_type": "code",
   "execution_count": 17,
   "metadata": {
    "id": "dnKjgwgpGBPw",
    "outputId": "cc04d562-7a30-40cf-abda-4e1796205948",
    "tags": []
   },
   "outputs": [
    {
     "name": "stdout",
     "output_type": "stream",
     "text": [
      "Confusion matrix, without normalization:\n"
     ]
    },
    {
     "data": {
      "text/plain": [
       "array([[   8,   62,   12,   11,   30],\n",
       "       [   0, 7044,   43,   37,  141],\n",
       "       [   0,  893, 1561,  108,  133],\n",
       "       [   0,  328,  146,  351,   41],\n",
       "       [   3,  348,  138,   31,  839]])"
      ]
     },
     "metadata": {},
     "output_type": "display_data"
    },
    {
     "data": {
      "image/png": "[encoded data removed]",
      "text/plain": [
       "<Figure size 432x288 with 2 Axes>"
      ]
     },
     "metadata": {
      "needs_background": "light"
     },
     "output_type": "display_data"
    },
    {
     "name": "stdout",
     "output_type": "stream",
     "text": [
      "Accuracy: 79.65%\n",
      "Log Loss = 0.5490\n"
     ]
    }
   ],
   "source": [
    "from sklearn.metrics import confusion_matrix, plot_confusion_matrix\n",
    "\n",
    "print('Confusion matrix, without normalization:')\n",
    "display(confusion_matrix(y_test, preds))\n",
    "\n",
    "fig, ax = plt.subplots()\n",
    "plot_confusion_matrix(best_model, preprocessor.fit_transform(X_test), y_test,values_format= 'd', cmap=plt.cm.Blues, ax = ax)\n",
    "ax.set_title('Confusion matrix')\n",
    "plt.show()\n",
    "\n",
    "# Accuracy\n",
    "acc = metrics.accuracy_score(preds, y_test)\n",
    "print(\"Accuracy: {:.2f}%\".format(acc*100))\n",
    "\n",
    "# Cross entropy loss\n",
    "logl = log_loss(y_test, search.best_estimator_.predict_proba(X_test))\n",
    "print(\"Log Loss = {:.4f}\".format(logl))"
   ]
  },
  {
   "cell_type": "markdown",
   "metadata": {
    "id": "TbO_qQYXNw2c"
   },
   "source": [
    "# 4 Final predictions\n",
    "\n",
    "## 4.1 Refit and predictions over real test data\n",
    "\n"
   ]
  },
  {
   "cell_type": "code",
   "execution_count": 18,
   "metadata": {
    "id": "KWpZ1PyqsC-2",
    "outputId": "c9d43d8e-9fc2-4e8e-c2cb-714bd629937e"
   },
   "outputs": [
    {
     "name": "stderr",
     "output_type": "stream",
     "text": [
      "/opt/conda/lib/python3.7/site-packages/sklearn/utils/validation.py:73: DataConversionWarning: A column-vector y was passed when a 1d array was expected. Please change the shape of y to (n_samples, ), for example using ravel().\n",
      "  return f(**kwargs)\n"
     ]
    }
   ],
   "source": [
    "# refit on whole dataset\n",
    "search.best_estimator_.fit(X, y)\n",
    "\n",
    "# final predictions\n",
    "y_pred_proba = search.best_estimator_.predict_proba(pd.DataFrame(X_data_predictions, columns=X_train.columns))\n",
    "y_pred = search.best_estimator_.predict(pd.DataFrame(X_data_predictions, columns=X_train.columns))"
   ]
  },
  {
   "cell_type": "markdown",
   "metadata": {
    "id": "lQ9YQlXaN-So"
   },
   "source": [
    "## 4.2 Output for scoring on kaggle"
   ]
  },
  {
   "cell_type": "code",
   "execution_count": 19,
   "metadata": {
    "id": "Aao2qS2YGBQS"
   },
   "outputs": [],
   "source": [
    "predictions_output_df = pd.DataFrame(y_pred_proba, columns=best_model.classes_)\n",
    "predictions_output_df.head()\n",
    "\n",
    "# Concatenate back the predictions with the indexes from the input data\n",
    "predictions_output_df.set_index(data_predictions.index).to_csv('predictions.csv')"
   ]
  },
  {
   "cell_type": "markdown",
   "metadata": {
    "id": "f8WZZa_XK7Qw",
    "outputId": "cbef1491-c7ce-401a-9ad7-f994cc679490"
   },
   "source": [
    "# predictions_output_df"
   ]
  }
 ],
 "metadata": {
  "kernelspec": {
   "display_name": "Python 3",
   "language": "python",
   "name": "python3"
  },
  "language_info": {
   "codemirror_mode": {
    "name": "ipython",
    "version": 3
   },
   "file_extension": ".py",
   "mimetype": "text/x-python",
   "name": "python",
   "nbconvert_exporter": "python",
   "pygments_lexer": "ipython3",
   "version": "3.7.6"
  }
 },
 "nbformat": 4,
 "nbformat_minor": 4
}
