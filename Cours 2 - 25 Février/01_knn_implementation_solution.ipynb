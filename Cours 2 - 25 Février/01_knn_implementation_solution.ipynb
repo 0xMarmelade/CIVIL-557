{
 "cells": [
  {
   "cell_type": "markdown",
   "metadata": {},
   "source": [
    "# Implementation of k-NN\n",
    "\n",
    "This notebook was written by Gael Lederrey and Tim Hillel (tim.hillel@epfl.ch) for the Decision-aid methodologies in transportation course at EPFL (http://edu.epfl.ch/coursebook/en/decision-aid-methodologies-in-transportation-CIVIL-557).\n",
    "\n",
    "Please contact before distributing or reusing the material below.\n",
    "\n",
    "## Overview\n",
    "\n",
    "In this notebook, you will learn how to implement the $k$-NN algorithm. This notebook is separated in two parts:\n",
    "\n",
    "1. Implementing the binary case $k$-NN classifier\n",
    "2. Implementing the multinomial case.\n",
    "\n",
    "### Setup\n",
    "\n",
    "We start by loading the dataset and the different libraries that are required for the exercises. We randomly sample 10000 elements from the original dataset, to make computation faster."
   ]
  },
  {
   "cell_type": "code",
   "execution_count": 1,
   "metadata": {},
   "outputs": [],
   "source": [
    "import numpy as np\n",
    "import pandas as pd"
   ]
  },
  {
   "cell_type": "code",
   "execution_count": 2,
   "metadata": {},
   "outputs": [],
   "source": [
    "df_full = pd.read_csv('data/dataset.csv')\n",
    "\n",
    "# We sample the dataset to decrease computation time\n",
    "df = df_full.sample(10000, random_state = 123)"
   ]
  },
  {
   "cell_type": "markdown",
   "metadata": {},
   "source": [
    "## Implementation of k-NN for binary case\n",
    "\n",
    "### Data preparation\n",
    "\n",
    "We start this exercise by selecting the features and output. In this case, we want a binary label which represents if a trip is made by driving (*1*) or not (*0*).\n",
    "\n",
    "The label is currently a string, so we will map it to numeric data.\n",
    "\n",
    "We will also select only four **features** from the data (again, in order to reduce computation time)."
   ]
  },
  {
   "cell_type": "code",
   "execution_count": 3,
   "metadata": {},
   "outputs": [],
   "source": [
    "# Dictionary used to transform the string in \n",
    "# the travel_mode for the binary output\n",
    "str_to_val = {\n",
    "    'drive': 1,\n",
    "    'pt': 0,\n",
    "    'cycle': 0,\n",
    "    'walk': 0\n",
    "}\n",
    "\n",
    "# Output\n",
    "y = df['travel_mode'].replace(str_to_val).values\n",
    "\n",
    "# Features (4 were selected)\n",
    "x = df[['age', 'car_ownership', 'distance', 'female']].values"
   ]
  },
  {
   "cell_type": "markdown",
   "metadata": {},
   "source": [
    "### Train-test split"
   ]
  },
  {
   "cell_type": "code",
   "execution_count": 4,
   "metadata": {},
   "outputs": [],
   "source": [
    "# We split the output and features into a train and a test set by an (approximate) ratio of 0.8\n",
    "np.random.seed(123)\n",
    "msk = np.random.rand(len(df)) < 0.8\n",
    "\n",
    "x_train = x[msk]\n",
    "x_test = x[~msk]\n",
    "\n",
    "y_train = y[msk]\n",
    "y_test = y[~msk]"
   ]
  },
  {
   "cell_type": "markdown",
   "metadata": {},
   "source": [
    "### Distance\n",
    "\n",
    "We need to compute the distance between two points in the space.\n",
    "\n",
    "*Note* You can either handle 2D arrays in your function, or handle this case with a for loop.\n",
    "\n",
    "We can either calculate the solution using first principles:"
   ]
  },
  {
   "cell_type": "code",
   "execution_count": 5,
   "metadata": {},
   "outputs": [],
   "source": [
    "# First principles solution:\n",
    "def euclidean_distance(array1, array2):\n",
    "    # Enter your code below\n",
    "    array1=np.array(array1)\n",
    "    array2=np.array(array2)\n",
    "    if len(array2.shape)==1:\n",
    "        dist = np.sqrt(np.sum([(i-j)**2 for i, j in zip(array1, array2)])) \n",
    "        #zip combines two arrays in one loop\n",
    "    else:\n",
    "        dist = [np.sqrt(np.sum([(i-j)**2 for i, j in zip(array1, arr)])) for arr in array2]\n",
    "    return dist"
   ]
  },
  {
   "cell_type": "markdown",
   "metadata": {},
   "source": [
    "...or we could use instead the _norm_ function from numpy to calculate the Euclidean distance:"
   ]
  },
  {
   "cell_type": "code",
   "execution_count": 6,
   "metadata": {},
   "outputs": [],
   "source": [
    "def euclidean_distance_numpy(array1, array2):\n",
    "    # Enter your code below\n",
    "    array1 = np.array(array1)\n",
    "    array2 = np.array(array2)\n",
    "    ax = 1\n",
    "    if len(array1.shape) == 1 and len(array2.shape) == 1:\n",
    "        ax = None\n",
    "    return np.linalg.norm(array1-array2, axis=ax)"
   ]
  },
  {
   "cell_type": "markdown",
   "metadata": {},
   "source": [
    "**Verify your answer here:**\n",
    "\n",
    "`euclidean_distance([3, -2, -5, 9], [-1, 4, 2, 0])) = 13.491`"
   ]
  },
  {
   "cell_type": "code",
   "execution_count": 7,
   "metadata": {},
   "outputs": [
    {
     "data": {
      "text/plain": [
       "13.490737563232042"
      ]
     },
     "execution_count": 7,
     "metadata": {},
     "output_type": "execute_result"
    }
   ],
   "source": [
    "arr1 = [3, -2, -5, 9]\n",
    "arr2 = [-1, 4, 2, 0]\n",
    "\n",
    "euclidean_distance(arr1, arr2)"
   ]
  },
  {
   "cell_type": "code",
   "execution_count": 8,
   "metadata": {},
   "outputs": [
    {
     "data": {
      "text/plain": [
       "22.516660498395403"
      ]
     },
     "execution_count": 8,
     "metadata": {},
     "output_type": "execute_result"
    }
   ],
   "source": [
    "np.sqrt((3-10)**2+(-2-7)**2+(-5-6)**2+(9--7)**2)"
   ]
  },
  {
   "cell_type": "markdown",
   "metadata": {},
   "source": [
    "    euclidean_distance([3, -2, -5, 9], \n",
    "                       [[-1, 4, 2, 0],[10,7,6,-7]]) = array([13.491, 22.517])"
   ]
  },
  {
   "cell_type": "code",
   "execution_count": 9,
   "metadata": {},
   "outputs": [
    {
     "data": {
      "text/plain": [
       "[13.490737563232042, 22.516660498395403]"
      ]
     },
     "execution_count": 9,
     "metadata": {},
     "output_type": "execute_result"
    }
   ],
   "source": [
    "euclidean_distance([3, -2, -5, 9], \n",
    "                   [[-1, 4, 2, 0], [10, 7, 6, -7]])"
   ]
  },
  {
   "cell_type": "markdown",
   "metadata": {},
   "source": [
    "### Find the k nearest neighbours\n",
    "\n",
    "For this function, we need to find the `k` nearest neighbours out of the `known_points` for a single `candidate`. The `candidate` is an array (with $n$ features), and it needs to be compared to the rest of the `known_points` (in the training set). \n",
    "\n",
    "The function should return the indices of the `k` closest neighbours."
   ]
  },
  {
   "cell_type": "code",
   "execution_count": 10,
   "metadata": {},
   "outputs": [],
   "source": [
    "def get_k_nearest_neighbours_fast(candidate, known_points, k):\n",
    "    # Enter your code below\n",
    "\n",
    "    # Get the distances\n",
    "    distances = euclidean_distance_numpy(known_points, candidate)\n",
    "    \n",
    "    # Sort the distances\n",
    "    neighbours_idx = distances.argsort()\n",
    "    \n",
    "    return neighbours_idx[:k]"
   ]
  },
  {
   "cell_type": "markdown",
   "metadata": {},
   "source": [
    "**OR**"
   ]
  },
  {
   "cell_type": "code",
   "execution_count": 11,
   "metadata": {},
   "outputs": [],
   "source": [
    "def get_k_nearest_neighbours_slow(candidate, known_points, k):\n",
    "    # Enter your code below\n",
    "\n",
    "    # Get the distances\n",
    "    # distances = []\n",
    "    # for p in known_points:\n",
    "    #     distances.append(euclidean_distance_1D(p, candidate))\n",
    "        \n",
    "    distances = np.array([euclidean_distance(p, candidate) for p in known_points])\n",
    "    \n",
    "    # Sort the distances\n",
    "    neighbours_idx = distances.argsort()\n",
    "    \n",
    "    return neighbours_idx[:k]"
   ]
  },
  {
   "cell_type": "markdown",
   "metadata": {},
   "source": [
    "**Verify your answer here:**\n",
    "\n",
    "`get_k_nearest_neighbours(x_test[0], x_train, 5) = array([2648, 3071, 7607, 7686, 3466])`"
   ]
  },
  {
   "cell_type": "code",
   "execution_count": 12,
   "metadata": {},
   "outputs": [
    {
     "data": {
      "text/plain": [
       "array([2648, 3071, 7607, 7686, 3466])"
      ]
     },
     "execution_count": 12,
     "metadata": {},
     "output_type": "execute_result"
    }
   ],
   "source": [
    "neighbours = get_k_nearest_neighbours_slow(x_test[0], x_train, 5)\n",
    "neighbours"
   ]
  },
  {
   "cell_type": "markdown",
   "metadata": {},
   "source": [
    "### Find the class\n",
    "\n",
    "Now that we know the closest neighbours, we need to compute the class (output) for a given instance. To do this, we need to count the number of times the class of a neighbour appears. Then, we can select the class with the highest count."
   ]
  },
  {
   "cell_type": "code",
   "execution_count": 13,
   "metadata": {},
   "outputs": [],
   "source": [
    "def get_class(neighbours, y_true):\n",
    "    # Enter your code below\n",
    "    # Binomial\n",
    "    return int(np.mean(y_true[neighbours]) > 0.5)\n",
    "    # Any class labels\n",
    "    "
   ]
  },
  {
   "cell_type": "markdown",
   "metadata": {},
   "source": [
    "**Verify your answer here:**\n",
    "\n",
    "`get_class(neighbours, y_train) = 1`"
   ]
  },
  {
   "cell_type": "code",
   "execution_count": 14,
   "metadata": {},
   "outputs": [
    {
     "data": {
      "text/plain": [
       "1"
      ]
     },
     "execution_count": 14,
     "metadata": {},
     "output_type": "execute_result"
    }
   ],
   "source": [
    "get_class(neighbours, y_train)"
   ]
  },
  {
   "cell_type": "markdown",
   "metadata": {},
   "source": [
    "You can verify that three neighbours have the class `1` and two have the class `0`."
   ]
  },
  {
   "cell_type": "code",
   "execution_count": 15,
   "metadata": {},
   "outputs": [
    {
     "data": {
      "text/plain": [
       "array([1, 1, 0, 1, 0])"
      ]
     },
     "execution_count": 15,
     "metadata": {},
     "output_type": "execute_result"
    }
   ],
   "source": [
    "y_train[neighbours]"
   ]
  },
  {
   "cell_type": "markdown",
   "metadata": {},
   "source": [
    "### Compute the accuracy\n",
    "\n",
    "We need to implement the computation of the accuracy. Recall that the accuracy is the proportion of the predictions we get right (i.e. where our **prediction** is equal to the **ground truth**) "
   ]
  },
  {
   "cell_type": "code",
   "execution_count": 16,
   "metadata": {},
   "outputs": [],
   "source": [
    "def compute_accuracy(y_true, y_pred):\n",
    "    # Enter your code below\n",
    "    return np.mean(np.array(y_true)==np.array(y_pred))*100"
   ]
  },
  {
   "cell_type": "markdown",
   "metadata": {},
   "source": [
    "**Verify your answer here:**\n",
    "\n",
    "`compute_accuracy([0, 1, 1, 0, 1], [0, 1, 1, 1, 0]) = 60.0`"
   ]
  },
  {
   "cell_type": "code",
   "execution_count": 17,
   "metadata": {},
   "outputs": [
    {
     "data": {
      "text/plain": [
       "60.0"
      ]
     },
     "execution_count": 17,
     "metadata": {},
     "output_type": "execute_result"
    }
   ],
   "source": [
    "compute_accuracy([0, 1, 1, 0, 1], [0, 1, 1, 1, 0])"
   ]
  },
  {
   "cell_type": "markdown",
   "metadata": {},
   "source": [
    "## Test your implementation of k-NN\n",
    "\n",
    "We can now test our implementation of k-NN. To do so, we need to combine the functions we developed the following order: \n",
    "\n",
    "```\n",
    "For each observation in the test set:\n",
    "    Get the k nearest neighbours\n",
    "    Get the class of the current observation\n",
    "    Add the prediction to a vector\n",
    "    \n",
    "Compute the accuracy\n",
    "    \n",
    "```\n",
    "\n",
    "With `k=5`, you should get an accuracy of `60.399%`.\n"
   ]
  },
  {
   "cell_type": "code",
   "execution_count": 18,
   "metadata": {},
   "outputs": [
    {
     "name": "stdout",
     "output_type": "stream",
     "text": [
      "Accuracy: 60.399%\n",
      "CPU times: user 7min 41s, sys: 4.89 s, total: 7min 46s\n",
      "Wall time: 7min 49s\n"
     ]
    }
   ],
   "source": [
    "%%time \n",
    "# ^- Show the time\n",
    "\n",
    "# Enter your code below\n",
    "y_pred = []\n",
    "k = 5\n",
    "for x in x_test:\n",
    "    neigh = get_k_nearest_neighbours_slow(x, x_train, k)\n",
    "    class_ = get_class(neigh, y_train)\n",
    "    y_pred.append(class_)\n",
    "\n",
    "accuracy = compute_accuracy(y_test, y_pred)\n",
    "print('Accuracy: {:.3f}%'.format(accuracy))"
   ]
  },
  {
   "cell_type": "markdown",
   "metadata": {},
   "source": [
    "## k-NN for multinomial cases\n",
    "\n",
    "First, we need to change the data to add a multinomial output.\n",
    "\n",
    "Indeed, we would like to see if we can classify between all four transport modes."
   ]
  },
  {
   "cell_type": "code",
   "execution_count": 19,
   "metadata": {},
   "outputs": [],
   "source": [
    "# Dictionnary used to transform the string in \n",
    "# the travel_mode to an integer\n",
    "str_to_val = {\n",
    "    'walk': 0,\n",
    "    'cycle': 1,\n",
    "    'pt': 2,\n",
    "    'drive': 3\n",
    "}\n",
    "\n",
    "# Output\n",
    "y = df['travel_mode'].replace(str_to_val).values"
   ]
  },
  {
   "cell_type": "code",
   "execution_count": 20,
   "metadata": {},
   "outputs": [],
   "source": [
    "y_train_mult = y[msk]\n",
    "y_test_mult = y[~msk]"
   ]
  },
  {
   "cell_type": "markdown",
   "metadata": {},
   "source": [
    "### Modification of the code\n",
    "\n",
    "Modify any functions that you implemented earlier to take into account the multinomial outputs."
   ]
  },
  {
   "cell_type": "code",
   "execution_count": 23,
   "metadata": {},
   "outputs": [],
   "source": [
    "# Need to make get_class work for the mutinomial case\n",
    "def get_class(neighbours, y_true):\n",
    "    values, counts = np.unique(y_true[neighbours],return_counts=True)\n",
    "    i_max=np.argmax(counts)\n",
    "    return values[i_max]"
   ]
  },
  {
   "cell_type": "markdown",
   "metadata": {},
   "source": [
    "###### **Verify your answer here:**\n",
    "\n",
    "With `k=5`, you should now get an accuracy of `53.756%`."
   ]
  },
  {
   "cell_type": "code",
   "execution_count": 22,
   "metadata": {},
   "outputs": [
    {
     "name": "stdout",
     "output_type": "stream",
     "text": [
      "Accuracy: 53.756%\n",
      "CPU times: user 2.48 s, sys: 15.6 ms, total: 2.5 s\n",
      "Wall time: 2.46 s\n"
     ]
    }
   ],
   "source": [
    "%%time\n",
    "# ^- Show the time\n",
    "\n",
    "# Enter your code below\n",
    "y_pred = []\n",
    "k = 5\n",
    "for x in x_test:\n",
    "    neigh = get_k_nearest_neighbours_fast(x, x_train, k)\n",
    "    class_ = get_class(neigh, y_train_mult)\n",
    "    y_pred.append(class_)\n",
    "\n",
    "accuracy = compute_accuracy(y_test_mult, y_pred)\n",
    "print('Accuracy: {:.3f}%'.format(accuracy))"
   ]
  },
  {
   "cell_type": "markdown",
   "metadata": {},
   "source": [
    "As we can see, the fast implementation took only 2.5 seconds while the slow implementation took nearly 8 minutes. This is due to the `for` loops (list compre in the slow implementation. Indeed, Python's `for` loops are especially slow and numpy is well optimized. (Foor for thought: https://dev.to/duomly/loops-in-python-comparison-and-performance-4f2m) So, we advise you to always use a library if you can."
   ]
  }
 ],
 "metadata": {
  "kernelspec": {
   "display_name": "Python 3",
   "language": "python",
   "name": "python3"
  },
  "language_info": {
   "codemirror_mode": {
    "name": "ipython",
    "version": 3
   },
   "file_extension": ".py",
   "mimetype": "text/x-python",
   "name": "python",
   "nbconvert_exporter": "python",
   "pygments_lexer": "ipython3",
   "version": "3.7.4"
  }
 },
 "nbformat": 4,
 "nbformat_minor": 2
}
