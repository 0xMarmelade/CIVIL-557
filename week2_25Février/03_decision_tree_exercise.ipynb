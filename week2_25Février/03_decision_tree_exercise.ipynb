{
 "cells": [
  {
   "cell_type": "markdown",
   "metadata": {},
   "source": [
    "# Decision Tree Classifier\n",
    "\n",
    "In this notebook, we ask you to use the Decision Tree Classifier to predict travel mode taken for the trips in the dataset. \n",
    "\n",
    "We have prepared the data, but feel free to modify anything you want. We want you to **be creative**!. \n",
    "\n",
    "Here are the steps you need to follow:\n",
    "1. Use the Decision Tree model in the library `scikit-learn` to classify the travel modes for the trips in the dataset (multinomial, with all four transport modes). **(Use the documentation!)**\n",
    "\n",
    "2. Experiment with the model hyper-parameters to investigate model performance\n",
    "\n",
    "3. Comment on the performance of your model compared to the $k$-NN models you implemented in the class\n",
    "\n",
    "4. (Optional) You can use the package graphviz (*install it with conda*) to visualize the tree.\n",
    "\n",
    "5. (Optional) Feel free to use more features/larger sample. Note that some features contain text data which needs to be converted to numeric data (see `OneHotEncoder` and `LabelEncoder`). More on that next time!\n",
    "\n",
    "6. Export your finished notebook as a pdf (File -> Export notebook as -> PDF) and submit it to the Moodle - deadline midnight Sunday 1st March\n",
    "\n",
    "## Set-up"
   ]
  },
  {
   "cell_type": "code",
   "execution_count": null,
   "metadata": {},
   "outputs": [],
   "source": [
    "import numpy as np\n",
    "import pandas as pd"
   ]
  },
  {
   "cell_type": "code",
   "execution_count": null,
   "metadata": {},
   "outputs": [],
   "source": [
    "df_tot = pd.read_csv('data/dataset.csv')"
   ]
  },
  {
   "cell_type": "code",
   "execution_count": null,
   "metadata": {},
   "outputs": [],
   "source": [
    "df = df_tot.sample(1000)\n",
    "\n",
    "y = df['travel_mode'].values\n",
    "\n",
    "x = df[['age', 'car_ownership', 'distance', 'female']].values"
   ]
  },
  {
   "cell_type": "code",
   "execution_count": null,
   "metadata": {},
   "outputs": [],
   "source": [
    "msk = np.random.rand(len(df)) < 0.8\n",
    "x_train = x[msk]\n",
    "x_test = x[~msk]\n",
    "\n",
    "y_train = y[msk]\n",
    "y_test = y[~msk]"
   ]
  },
  {
   "cell_type": "markdown",
   "metadata": {},
   "source": [
    "# Solution starts here!"
   ]
  },
  {
   "cell_type": "code",
   "execution_count": null,
   "metadata": {},
   "outputs": [],
   "source": []
  }
 ],
 "metadata": {
  "kernelspec": {
   "display_name": "Python [default]",
   "language": "python",
   "name": "python3"
  },
  "language_info": {
   "codemirror_mode": {
    "name": "ipython",
    "version": 3
   },
   "file_extension": ".py",
   "mimetype": "text/x-python",
   "name": "python",
   "nbconvert_exporter": "python",
   "pygments_lexer": "ipython3",
   "version": "3.6.5"
  }
 },
 "nbformat": 4,
 "nbformat_minor": 2
}
