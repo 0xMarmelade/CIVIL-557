{
 "cells": [
  {
   "cell_type": "markdown",
   "metadata": {},
   "source": [
    "# k-NN with sklearn\n",
    "\n",
    "This notebook was written by Gael Lederrey and Tim Hillel (tim.hillel@epfl.ch) for the Decision-aid methodologies in transportation course at EPFL (http://edu.epfl.ch/coursebook/en/decision-aid-methodologies-in-transportation-CIVIL-557).\n",
    "\n",
    "Please contact before distributing or reusing the material below.\n",
    "\n",
    "## Overview\n",
    "\n",
    "Now that we've implemented the k-NN algorithm, we will see how to use it with the `scikit-learn` library. In this notebook, we will learn to:\n",
    "\n",
    "1. Scale data using scikit-learn\n",
    "2. Use classifiers from scikit-learn\n",
    "3. Test different model hyperparameters\n",
    "4. Use different metrics to assess the performance of your model\n",
    "\n",
    "\n",
    "## Set-up\n",
    "\n",
    "We start by loading the dataset and the different libraries that are required for the exercices."
   ]
  },
  {
   "cell_type": "code",
   "execution_count": 1,
   "metadata": {},
   "outputs": [],
   "source": [
    "import numpy as np\n",
    "import pandas as pd\n",
    "\n",
    "import matplotlib.pyplot as plt"
   ]
  },
  {
   "cell_type": "code",
   "execution_count": 2,
   "metadata": {},
   "outputs": [],
   "source": [
    "df_full = pd.read_csv('data/dataset.csv')\n",
    "\n",
    "# We subsample the dataset to reduce the computational cost\n",
    "df = df_full.sample(10000, random_state = 123)"
   ]
  },
  {
   "cell_type": "markdown",
   "metadata": {},
   "source": [
    "We use the multinomial version of the dataset"
   ]
  },
  {
   "cell_type": "code",
   "execution_count": 3,
   "metadata": {},
   "outputs": [],
   "source": [
    "# Dictionary used to transform the string in \n",
    "# the travel_mode to an integer\n",
    "str_to_val = {\n",
    "    'walk': 0,\n",
    "    'cycle': 1,\n",
    "    'pt': 2,\n",
    "    'drive': 3\n",
    "}\n",
    "\n",
    "# Output\n",
    "y = df['travel_mode'].replace(str_to_val).values\n",
    "\n",
    "# Features (4 are selected)\n",
    "x = df[['age', 'car_ownership', 'distance', 'female']].values\n",
    "\n",
    "# We split the output and features into a train and a test set by \n",
    "# an (approximate) ratio of 0.8\n",
    "np.random.seed(123)\n",
    "msk = np.random.rand(len(df)) < 0.8\n",
    "\n",
    "x_train_unscaled = x[msk]\n",
    "x_test_unscaled = x[~msk]\n",
    "\n",
    "y_train = y[msk]\n",
    "y_test = y[~msk]"
   ]
  },
  {
   "cell_type": "markdown",
   "metadata": {},
   "source": [
    "## k-NN with scikit-learn\n",
    "\n",
    "In this section, we will use the $k$-NN from ``sklearn`` and compare the results to our implementation in the previous notebook.\n",
    "\n",
    "The `KNeighborsClassifier` is in the ``neighbors`` submodule of sklearn. Try importing it directly.\n",
    "\n",
    "Notice the *CamelCase*? This tells us we are using a class! (Like `DataFrame` in Pandas)"
   ]
  },
  {
   "cell_type": "code",
   "execution_count": 4,
   "metadata": {},
   "outputs": [],
   "source": [
    "# Enter your code below\n",
    "from sklearn.neighbors import KNeighborsClassifier"
   ]
  },
  {
   "cell_type": "markdown",
   "metadata": {},
   "source": [
    "sklearn classes all behave in a very simular way (including classifiers, regressers, scalers, etc.)\n",
    "\n",
    "Firstly, we *instantiate* the class (i.e. create an instance). Try using the *help* functionality to investigate the hyperparameters and default values."
   ]
  },
  {
   "cell_type": "code",
   "execution_count": 5,
   "metadata": {},
   "outputs": [],
   "source": [
    "knn = KNeighborsClassifier()"
   ]
  },
  {
   "cell_type": "markdown",
   "metadata": {},
   "source": [
    "Next, we `fit` the class to the training data. (Note, this doesn't actually do anything for $k$-NN, as our model is simply the data!)"
   ]
  },
  {
   "cell_type": "code",
   "execution_count": 6,
   "metadata": {},
   "outputs": [
    {
     "data": {
      "text/plain": [
       "KNeighborsClassifier(algorithm='auto', leaf_size=30, metric='minkowski',\n",
       "           metric_params=None, n_jobs=1, n_neighbors=5, p=2,\n",
       "           weights='uniform')"
      ]
     },
     "execution_count": 6,
     "metadata": {},
     "output_type": "execute_result"
    }
   ],
   "source": [
    "knn.fit(x_train_unscaled, y_train)"
   ]
  },
  {
   "cell_type": "markdown",
   "metadata": {},
   "source": [
    "Finally, we use the class on new data. For classifiers, we use them to **predict** new data."
   ]
  },
  {
   "cell_type": "code",
   "execution_count": 7,
   "metadata": {},
   "outputs": [],
   "source": [
    "y_pred = knn.predict(x_test_unscaled)"
   ]
  },
  {
   "cell_type": "markdown",
   "metadata": {},
   "source": [
    "Let's define our accuracy score function again, and use it to compare the results of the skleanr model to our implimentation!"
   ]
  },
  {
   "cell_type": "code",
   "execution_count": 8,
   "metadata": {},
   "outputs": [
    {
     "name": "stdout",
     "output_type": "stream",
     "text": [
      "Accuracy: 53.756%\n"
     ]
    }
   ],
   "source": [
    "def compute_accuracy(y_true, y_pred):\n",
    "    return np.mean(np.array(y_true)==np.array(y_pred))*100\n",
    "\n",
    "print(\"Accuracy: {:.3f}%\".format(compute_accuracy(y_test, y_pred)))"
   ]
  },
  {
   "cell_type": "markdown",
   "metadata": {},
   "source": [
    "Great, we get exactly the same score (for the multinomial case)!\n",
    "\n",
    "This is because we used the same *hyperparameters*!"
   ]
  },
  {
   "cell_type": "markdown",
   "metadata": {},
   "source": [
    "## Scaling data\n",
    "\n",
    "As discussed, $k$-NN is highly sensitive to data scaling. As such, we will use the standard scaler from scikit-learn to scale the data to zero-mean unit-variance.\n",
    "\n",
    "The `StandardScaler` is in the preprocessing submodule of sklearn. Try importing it directly, instantiating it, and fitting it to `x_train_unscaled`."
   ]
  },
  {
   "cell_type": "code",
   "execution_count": 9,
   "metadata": {},
   "outputs": [
    {
     "name": "stderr",
     "output_type": "stream",
     "text": [
      "/home/timmy/anaconda3/lib/python3.6/site-packages/sklearn/utils/validation.py:475: DataConversionWarning: Data with input dtype int64 was converted to float64 by StandardScaler.\n",
      "  warnings.warn(msg, DataConversionWarning)\n"
     ]
    },
    {
     "data": {
      "text/plain": [
       "StandardScaler(copy=True, with_mean=True, with_std=True)"
      ]
     },
     "execution_count": 9,
     "metadata": {},
     "output_type": "execute_result"
    }
   ],
   "source": [
    "# enter your code below\n",
    "from sklearn.preprocessing import StandardScaler\n",
    "scl = StandardScaler()\n",
    "scl.fit(x_train_unscaled)"
   ]
  },
  {
   "cell_type": "markdown",
   "metadata": {},
   "source": [
    "Instead of `predict`, we use the scaler to `transform` data.\n",
    "\n",
    "Use the fitted scaler to transform `x_train_unscaled` and `x_test_unscaled` and save it as `x_train` and `x_test` respectively"
   ]
  },
  {
   "cell_type": "code",
   "execution_count": 10,
   "metadata": {},
   "outputs": [
    {
     "name": "stderr",
     "output_type": "stream",
     "text": [
      "/home/timmy/anaconda3/lib/python3.6/site-packages/sklearn/utils/validation.py:475: DataConversionWarning: Data with input dtype int64 was converted to float64 by StandardScaler.\n",
      "  warnings.warn(msg, DataConversionWarning)\n"
     ]
    }
   ],
   "source": [
    "# enter your code below\n",
    "x_train = scl.transform(x_train_unscaled)\n",
    "x_test = scl.transform(x_test_unscaled)"
   ]
  },
  {
   "cell_type": "markdown",
   "metadata": {},
   "source": [
    "Now try using the `knn` to the scaled data, and see how the results have changed!\n",
    "\n",
    "You should get an accuracy score of 65.457%!"
   ]
  },
  {
   "cell_type": "code",
   "execution_count": 11,
   "metadata": {},
   "outputs": [
    {
     "name": "stdout",
     "output_type": "stream",
     "text": [
      "Accuracy: 65.457%\n"
     ]
    }
   ],
   "source": [
    "# enter your code below\n",
    "knn.fit(x_train, y_train)\n",
    "y_pred = knn.predict(x_test)\n",
    "print(\"Accuracy: {:.3f}%\".format(compute_accuracy(y_test, y_pred)))"
   ]
  },
  {
   "cell_type": "markdown",
   "metadata": {},
   "source": [
    "## Accuracy, Precision, and Recall\n",
    "\n",
    "As discussed, accuracy is not always the best policy. \n",
    "\n",
    "Let's investigate some other metric, based on the `confusion_matrix`\n",
    "\n",
    "Firstly, import the function `confusion_matrix` from `metrics` submodule of `sklearn`, and display the confusion matrix for the predicted values `y_pred` and ground truth values `y_test` for the test data.  "
   ]
  },
  {
   "cell_type": "code",
   "execution_count": 12,
   "metadata": {},
   "outputs": [
    {
     "data": {
      "text/plain": [
       "array([[190,   2,  38,  91],\n",
       "       [ 10,   2,  18,  23],\n",
       "       [ 61,   6, 486, 174],\n",
       "       [ 79,   7, 167, 603]])"
      ]
     },
     "execution_count": 12,
     "metadata": {},
     "output_type": "execute_result"
    }
   ],
   "source": [
    "# enter your code below\n",
    "from sklearn.metrics import confusion_matrix\n",
    "\n",
    "confusion_matrix(y_test, y_pred)"
   ]
  },
  {
   "cell_type": "markdown",
   "metadata": {},
   "source": [
    "We recall that (for a single class):\n",
    "\n",
    "`precision = TP/TP+FP\n",
    "recall = TP/TP+FN`\n",
    "\n",
    "Write functions to compute the precision and recall for a given class, from the confusion matrix.\n"
   ]
  },
  {
   "cell_type": "code",
   "execution_count": 13,
   "metadata": {},
   "outputs": [],
   "source": [
    "def compute_precision(y_true, y_pred, c):\n",
    "    # Enter your code below\n",
    "    \n",
    "    conf_mat = confusion_matrix(y_true, y_pred)\n",
    "    precision = conf_mat[c,c]/sum(conf_mat[:,c])\n",
    "    \n",
    "    return precision"
   ]
  },
  {
   "cell_type": "code",
   "execution_count": 14,
   "metadata": {},
   "outputs": [],
   "source": [
    "def compute_recall(y_true, y_pred, c):\n",
    "    # Enter your code below\n",
    "    \n",
    "    conf_mat = confusion_matrix(y_true, y_pred)\n",
    "    recall = conf_mat[c,c]/sum(conf_mat[c,:])\n",
    "    \n",
    "    return recall"
   ]
  },
  {
   "cell_type": "markdown",
   "metadata": {},
   "source": [
    "Try printing the precision and recall for the `pt` mode. You should get 0.685 and 0.669 respectively."
   ]
  },
  {
   "cell_type": "code",
   "execution_count": 15,
   "metadata": {},
   "outputs": [
    {
     "name": "stdout",
     "output_type": "stream",
     "text": [
      "Precision: 0.685\n",
      "Recall: 0.669\n"
     ]
    }
   ],
   "source": [
    "# enter your code below\n",
    "print(\"Precision: {:.3f}\".format(compute_precision(y_test, y_pred, 2)))\n",
    "print(\"Recall: {:.3f}\".format(compute_recall(y_test, y_pred, 2)))"
   ]
  },
  {
   "cell_type": "markdown",
   "metadata": {},
   "source": [
    "Use a list comprehension to get the precision and recall for each class."
   ]
  },
  {
   "cell_type": "code",
   "execution_count": 16,
   "metadata": {},
   "outputs": [
    {
     "name": "stdout",
     "output_type": "stream",
     "text": [
      "Precision: [0.5588235294117647, 0.11764705882352941, 0.685472496473907, 0.6767676767676768]\n",
      "Recall: [0.5919003115264797, 0.03773584905660377, 0.6685006877579092, 0.7044392523364486]\n"
     ]
    }
   ],
   "source": [
    "# enter your code below\n",
    "print(\"Precision: {}\".format([compute_precision(y_test, y_pred, i) for i in range(4)]))\n",
    "print(\"Recall: {}\".format([compute_recall(y_test, y_pred, i) for i in range(4)]))"
   ]
  },
  {
   "cell_type": "markdown",
   "metadata": {},
   "source": [
    "We can use the function `precision_recall_fscore_support` to verify our answer"
   ]
  },
  {
   "cell_type": "code",
   "execution_count": 17,
   "metadata": {},
   "outputs": [
    {
     "name": "stdout",
     "output_type": "stream",
     "text": [
      "Precision: [0.55882353 0.11764706 0.6854725  0.67676768]\n",
      "Recall: [0.59190031 0.03773585 0.66850069 0.70443925]\n"
     ]
    }
   ],
   "source": [
    "from sklearn.metrics import precision_recall_fscore_support\n",
    "\n",
    "prec, rec, fscore, supp = precision_recall_fscore_support(y_test, y_pred)\n",
    "\n",
    "print(\"Precision: {}\".format(prec))\n",
    "print(\"Recall: {}\".format(rec))"
   ]
  },
  {
   "cell_type": "markdown",
   "metadata": {},
   "source": [
    "## Model optimisation\n",
    "\n",
    "We can investigate the effects of the hyperparameters on model performance. \n",
    "\n",
    "### $k$\n",
    "\n",
    "Let's try investigating the effect `k` on the model. Try testing mutliple values of `k` (e.g. between 1 and 50) and comment on the results. \n",
    "\n",
    "For now, use accuracy as the performance metric to focus on(!)\n",
    "\n",
    "*Hint*: It could be useful to plot a graph."
   ]
  },
  {
   "cell_type": "markdown",
   "metadata": {},
   "source": [
    "**Solution starts here!**"
   ]
  },
  {
   "cell_type": "code",
   "execution_count": 18,
   "metadata": {},
   "outputs": [],
   "source": [
    "acc = []\n",
    "for k in np.arange(1, 51):\n",
    "    knn=KNeighborsClassifier(n_neighbors = k)\n",
    "\n",
    "    knn.fit(x_train, y_train)\n",
    "    y_pred = knn.predict(x_test)\n",
    "    acc.append(compute_accuracy(y_test, y_pred))"
   ]
  },
  {
   "cell_type": "code",
   "execution_count": 19,
   "metadata": {},
   "outputs": [
    {
     "data": {
      "text/plain": [
       "Text(0,0.5,'Accuracy [%]')"
      ]
     },
     "execution_count": 19,
     "metadata": {},
     "output_type": "execute_result"
    },
    {
     "data": {
      "image/png": "[encoded data removed]",
      "text/plain": [
       "<Figure size 720x504 with 1 Axes>"
      ]
     },
     "metadata": {},
     "output_type": "display_data"
    }
   ],
   "source": [
    "plt.figure(figsize=(10,7))\n",
    "\n",
    "plt.plot(np.arange(1,51), acc, 'ko-')\n",
    "plt.xlabel('k')\n",
    "plt.ylabel('Accuracy [%]')"
   ]
  },
  {
   "cell_type": "markdown",
   "metadata": {},
   "source": [
    "What was your best value of $k$? Is it the same as others in the class?"
   ]
  },
  {
   "cell_type": "code",
   "execution_count": 20,
   "metadata": {},
   "outputs": [
    {
     "name": "stdout",
     "output_type": "stream",
     "text": [
      "Best k = 22\n"
     ]
    }
   ],
   "source": [
    "# Fill your code below\n",
    "\n",
    "print(\"Best k = {}\".format(np.argmax(acc)+1))"
   ]
  },
  {
   "cell_type": "markdown",
   "metadata": {},
   "source": [
    "### (Bonus) Repeated trials\n",
    "\n",
    "In order to to estimate the confidence interfals for our performance estimates, we could test the multiple on multiple draws from the dataset, *i.e.* draw the train and test sets multiple times. \n",
    "\n",
    "*Note, there are other ways to do this, which we will discuss later in the course*\n",
    "\n",
    "**Solution starts here!**"
   ]
  },
  {
   "cell_type": "code",
   "execution_count": 21,
   "metadata": {
    "scrolled": false
   },
   "outputs": [
    {
     "name": "stdout",
     "output_type": "stream",
     "text": [
      "Run: 1/10\n"
     ]
    },
    {
     "name": "stderr",
     "output_type": "stream",
     "text": [
      "/home/timmy/anaconda3/lib/python3.6/site-packages/sklearn/utils/validation.py:475: DataConversionWarning: Data with input dtype int64 was converted to float64 by StandardScaler.\n",
      "  warnings.warn(msg, DataConversionWarning)\n"
     ]
    },
    {
     "name": "stdout",
     "output_type": "stream",
     "text": [
      "Run: 2/10\n",
      "Run: 3/10\n",
      "Run: 4/10\n",
      "Run: 5/10\n",
      "Run: 6/10\n",
      "Run: 7/10\n",
      "Run: 8/10\n",
      "Run: 9/10\n",
      "Run: 10/10\n",
      "Finished\n"
     ]
    }
   ],
   "source": [
    "accuracy = []\n",
    "draws = 10\n",
    "for d in range(draws):\n",
    "    print(\"Run: {}/{}\".format(d+1,draws))\n",
    "    msk_rnd = np.random.rand(len(df)) < 0.8\n",
    "    \n",
    "    x_train_rnd_unscaled = x[msk_rnd]\n",
    "    x_test_rnd_unscaled = x[~msk_rnd]\n",
    "    \n",
    "    #scale data\n",
    "    scl.fit(x_train_rnd_unscaled)\n",
    "    x_train_rnd = scl.transform(x_train_rnd_unscaled)\n",
    "    x_test_rnd = scl.transform(x_test_rnd_unscaled)\n",
    "\n",
    "    y_train_rnd = y[msk_rnd]\n",
    "    y_test_rnd = y[~msk_rnd]\n",
    "\n",
    "    for k in np.arange(1, 51):\n",
    "        \n",
    "        if d == 0:\n",
    "            accuracy.append([])\n",
    "\n",
    "        knn=KNeighborsClassifier(n_neighbors = k)\n",
    "\n",
    "        knn.fit(x_train_rnd, y_train_rnd)\n",
    "        y_pred = knn.predict(x_test_rnd)\n",
    "        accuracy[k-1].append(compute_accuracy(y_test_rnd, y_pred))\n",
    "        \n",
    "print(\"Finished\")"
   ]
  },
  {
   "cell_type": "code",
   "execution_count": 22,
   "metadata": {},
   "outputs": [],
   "source": [
    "# Fill your code below\n",
    "\n",
    "avg = [np.mean(acc) for acc in accuracy]\n",
    "err_low = [avg[i]-np.percentile(acc, 25) for i, acc in enumerate(accuracy)]\n",
    "err_high = [np.percentile(acc, 75)-avg[i] for i, acc in enumerate(accuracy)]"
   ]
  },
  {
   "cell_type": "code",
   "execution_count": 23,
   "metadata": {},
   "outputs": [
    {
     "data": {
      "text/plain": [
       "Text(0,0.5,'Accuracy [%]')"
      ]
     },
     "execution_count": 23,
     "metadata": {},
     "output_type": "execute_result"
    },
    {
     "data": {
      "image/png": "[encoded data removed]",
      "text/plain": [
       "<Figure size 720x504 with 1 Axes>"
      ]
     },
     "metadata": {},
     "output_type": "display_data"
    }
   ],
   "source": [
    "# Fill your code below\n",
    "\n",
    "plt.figure(figsize=(10,7))\n",
    "\n",
    "plt.errorbar(np.arange(1,51), avg, yerr=[err_low, err_high], fmt='ko',  capthick=2)\n",
    "plt.xlabel('k')\n",
    "plt.ylabel('Accuracy [%]')"
   ]
  },
  {
   "cell_type": "markdown",
   "metadata": {},
   "source": [
    "### (Bonus) Other hyperparameters \n",
    "\n",
    "Try experimenting with the other hyperparameters in $k$-NN (use the documentation!). \n",
    "\n",
    "E.g. what happens if we use distance based weightings? Does the optimal value of $k$ change?\n",
    "\n",
    "**Solution starts here!**"
   ]
  },
  {
   "cell_type": "code",
   "execution_count": 24,
   "metadata": {},
   "outputs": [
    {
     "name": "stdout",
     "output_type": "stream",
     "text": [
      "Start 1/10\n"
     ]
    },
    {
     "name": "stderr",
     "output_type": "stream",
     "text": [
      "/home/timmy/anaconda3/lib/python3.6/site-packages/sklearn/utils/validation.py:475: DataConversionWarning: Data with input dtype int64 was converted to float64 by StandardScaler.\n",
      "  warnings.warn(msg, DataConversionWarning)\n"
     ]
    },
    {
     "name": "stdout",
     "output_type": "stream",
     "text": [
      "Start 2/10\n",
      "Start 3/10\n",
      "Start 4/10\n",
      "Start 5/10\n",
      "Start 6/10\n",
      "Start 7/10\n",
      "Start 8/10\n",
      "Start 9/10\n",
      "Start 10/10\n",
      "Finished\n"
     ]
    }
   ],
   "source": [
    "# Now, we want to test multiple hyperparameters\n",
    "\n",
    "results = []\n",
    "\n",
    "k_vals = np.arange(1, 51)\n",
    "weights = ['uniform', 'distance']\n",
    "\n",
    "draws = 10\n",
    "\n",
    "for d in range(draws):\n",
    "    \n",
    "    print(\"Start {}/{}\".format(d+1, draws))\n",
    "    msk_rnd = np.random.rand(len(df)) < 0.8\n",
    "\n",
    "    x_train_rnd_unscaled  = x[msk_rnd]\n",
    "    x_test_rnd_unscaled = x[~msk_rnd]\n",
    "    \n",
    "    #scale data\n",
    "    scl.fit(x_train_rnd_unscaled)\n",
    "    x_train_rnd = scl.transform(x_train_rnd_unscaled)\n",
    "    x_test_rnd = scl.transform(x_test_rnd_unscaled)\n",
    "\n",
    "    y_train_rnd = y[msk_rnd]\n",
    "    y_test_rnd = y[~msk_rnd]\n",
    "    \n",
    "    idx = 0\n",
    "    for k in k_vals:\n",
    "        \n",
    "        for w in weights:\n",
    "            \n",
    "            if d == 0:\n",
    "                results.append({'params': {'k': k, 'weights': w}, 'acc': []})\n",
    "\n",
    "            knn=KNeighborsClassifier(n_neighbors = k, weights=w)\n",
    "\n",
    "            knn.fit(x_train_rnd, y_train_rnd)\n",
    "            y_pred = knn.predict(x_test_rnd)\n",
    "            results[idx]['acc'].append(compute_accuracy(y_test_rnd, y_pred))\n",
    "            \n",
    "            idx += 1\n",
    "        \n",
    "print(\"Finished\")"
   ]
  },
  {
   "cell_type": "code",
   "execution_count": 25,
   "metadata": {},
   "outputs": [],
   "source": [
    "for i, vals in enumerate(results):\n",
    "    results[i]['mean'] = np.mean(vals['acc'])\n",
    "    results[i]['median'] = np.median(vals['acc'])"
   ]
  },
  {
   "cell_type": "code",
   "execution_count": 26,
   "metadata": {},
   "outputs": [
    {
     "name": "stdout",
     "output_type": "stream",
     "text": [
      "{'k': 33, 'weights': 'distance'}\n"
     ]
    }
   ],
   "source": [
    "param = results[np.argmax([res['median'] for res in results])]['params']\n",
    "print(param)"
   ]
  },
  {
   "cell_type": "code",
   "execution_count": 27,
   "metadata": {},
   "outputs": [
    {
     "name": "stdout",
     "output_type": "stream",
     "text": [
      "Accuracy: 68.268%\n"
     ]
    }
   ],
   "source": [
    "knn=KNeighborsClassifier(n_neighbors = param['k'], weights = param['weights'])\n",
    "\n",
    "knn.fit(x_train, y_train)\n",
    "y_pred = knn.predict(x_test)\n",
    "print(\"Accuracy: {:.3f}%\".format(compute_accuracy(y_test, y_pred)))"
   ]
  }
 ],
 "metadata": {
  "kernelspec": {
   "display_name": "Python 3",
   "language": "python",
   "name": "python3"
  },
  "language_info": {
   "codemirror_mode": {
    "name": "ipython",
    "version": 3
   },
   "file_extension": ".py",
   "mimetype": "text/x-python",
   "name": "python",
   "nbconvert_exporter": "python",
   "pygments_lexer": "ipython3",
   "version": "3.6.3"
  }
 },
 "nbformat": 4,
 "nbformat_minor": 2
}
